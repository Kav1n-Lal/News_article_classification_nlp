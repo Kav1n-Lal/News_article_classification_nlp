{
 "cells": [
  {
   "cell_type": "markdown",
   "id": "52bcb62e-cf1e-433a-91dc-e771afc43f07",
   "metadata": {},
   "source": [
    "## Loading And Installing The Required Libraries "
   ]
  },
  {
   "cell_type": "code",
   "execution_count": 1,
   "id": "89c70fcd-29fb-4475-bece-e4c98db1b770",
   "metadata": {},
   "outputs": [
    {
     "name": "stderr",
     "output_type": "stream",
     "text": [
      "[nltk_data] Downloading package averaged_perceptron_tagger to\n",
      "[nltk_data]     C:\\Users\\DELL\\AppData\\Roaming\\nltk_data...\n",
      "[nltk_data]   Package averaged_perceptron_tagger is already up-to-\n",
      "[nltk_data]       date!\n",
      "[nltk_data] Downloading package omw-1.4 to\n",
      "[nltk_data]     C:\\Users\\DELL\\AppData\\Roaming\\nltk_data...\n",
      "[nltk_data]   Package omw-1.4 is already up-to-date!\n",
      "[nltk_data] Downloading package stopwords to\n",
      "[nltk_data]     C:\\Users\\DELL\\AppData\\Roaming\\nltk_data...\n",
      "[nltk_data]   Package stopwords is already up-to-date!\n",
      "[nltk_data] Downloading package wordnet to\n",
      "[nltk_data]     C:\\Users\\DELL\\AppData\\Roaming\\nltk_data...\n",
      "[nltk_data]   Package wordnet is already up-to-date!\n",
      "[nltk_data] Downloading package punkt to\n",
      "[nltk_data]     C:\\Users\\DELL\\AppData\\Roaming\\nltk_data...\n",
      "[nltk_data]   Package punkt is already up-to-date!\n"
     ]
    },
    {
     "name": "stdout",
     "output_type": "stream",
     "text": [
      "Requirement already satisfied: wordcloud in c:\\users\\dell\\anaconda3\\envs\\nlp_careerfair_task\\lib\\site-packages (1.9.3)\n",
      "Requirement already satisfied: numpy>=1.6.1 in c:\\users\\dell\\anaconda3\\envs\\nlp_careerfair_task\\lib\\site-packages (from wordcloud) (1.26.2)\n",
      "Requirement already satisfied: pillow in c:\\users\\dell\\anaconda3\\envs\\nlp_careerfair_task\\lib\\site-packages (from wordcloud) (10.1.0)\n",
      "Requirement already satisfied: matplotlib in c:\\users\\dell\\anaconda3\\envs\\nlp_careerfair_task\\lib\\site-packages (from wordcloud) (3.8.2)\n",
      "Requirement already satisfied: contourpy>=1.0.1 in c:\\users\\dell\\anaconda3\\envs\\nlp_careerfair_task\\lib\\site-packages (from matplotlib->wordcloud) (1.2.0)\n",
      "Requirement already satisfied: cycler>=0.10 in c:\\users\\dell\\anaconda3\\envs\\nlp_careerfair_task\\lib\\site-packages (from matplotlib->wordcloud) (0.12.1)\n",
      "Requirement already satisfied: fonttools>=4.22.0 in c:\\users\\dell\\anaconda3\\envs\\nlp_careerfair_task\\lib\\site-packages (from matplotlib->wordcloud) (4.47.0)\n",
      "Requirement already satisfied: kiwisolver>=1.3.1 in c:\\users\\dell\\anaconda3\\envs\\nlp_careerfair_task\\lib\\site-packages (from matplotlib->wordcloud) (1.4.5)\n",
      "Requirement already satisfied: packaging>=20.0 in c:\\users\\dell\\anaconda3\\envs\\nlp_careerfair_task\\lib\\site-packages (from matplotlib->wordcloud) (23.1)\n",
      "Requirement already satisfied: pyparsing>=2.3.1 in c:\\users\\dell\\anaconda3\\envs\\nlp_careerfair_task\\lib\\site-packages (from matplotlib->wordcloud) (3.1.1)\n",
      "Requirement already satisfied: python-dateutil>=2.7 in c:\\users\\dell\\anaconda3\\envs\\nlp_careerfair_task\\lib\\site-packages (from matplotlib->wordcloud) (2.8.2)\n",
      "Requirement already satisfied: importlib-resources>=3.2.0 in c:\\users\\dell\\anaconda3\\envs\\nlp_careerfair_task\\lib\\site-packages (from matplotlib->wordcloud) (6.1.1)\n",
      "Requirement already satisfied: zipp>=3.1.0 in c:\\users\\dell\\anaconda3\\envs\\nlp_careerfair_task\\lib\\site-packages (from importlib-resources>=3.2.0->matplotlib->wordcloud) (3.11.0)\n",
      "Requirement already satisfied: six>=1.5 in c:\\users\\dell\\anaconda3\\envs\\nlp_careerfair_task\\lib\\site-packages (from python-dateutil>=2.7->matplotlib->wordcloud) (1.16.0)\n"
     ]
    }
   ],
   "source": [
    "import pandas as pd\n",
    "import numpy as np\n",
    "import matplotlib.pyplot as plt\n",
    "import seaborn as sns\n",
    "import re\n",
    "\n",
    "import nltk\n",
    "nltk.download('averaged_perceptron_tagger')\n",
    "nltk.download('omw-1.4')\n",
    "from nltk.corpus import stopwords\n",
    "nltk.download('stopwords')\n",
    "from nltk.stem import PorterStemmer\n",
    "from nltk.stem import WordNetLemmatizer\n",
    "nltk.download('wordnet')\n",
    "from nltk.tokenize import word_tokenize\n",
    "from nltk.tokenize import sent_tokenize\n",
    "nltk.download('punkt')\n",
    "! pip install wordcloud\n",
    "from wordcloud import WordCloud\n",
    "\n",
    "from sklearn.feature_extraction.text import CountVectorizer\n",
    "from sklearn.feature_extraction.text import TfidfVectorizer\n",
    "from sklearn.model_selection import train_test_split\n",
    "from sklearn.metrics import accuracy_score\n",
    "from sklearn.metrics import confusion_matrix\n",
    "from sklearn.metrics import classification_report\n",
    "from sklearn.metrics import make_scorer, roc_curve, roc_auc_score\n",
    "from sklearn.metrics import precision_recall_fscore_support as score\n",
    "from sklearn.metrics.pairwise import cosine_similarity\n",
    "from sklearn.multiclass import OneVsRestClassifier\n",
    "from sklearn.linear_model import LogisticRegression\n",
    "from sklearn.svm import SVC, LinearSVC\n",
    "from sklearn.tree import DecisionTreeClassifier\n",
    "from sklearn.ensemble import RandomForestClassifier\n",
    "from sklearn.neighbors import KNeighborsClassifier\n",
    "from sklearn.naive_bayes import GaussianNB,MultinomialNB,BernoulliNB"
   ]
  },
  {
   "cell_type": "markdown",
   "id": "5b3ea215-f601-4d89-aa27-4091a368ac1e",
   "metadata": {},
   "source": [
    "## Loading the dataset"
   ]
  },
  {
   "cell_type": "code",
   "execution_count": 2,
   "id": "1f202604-80ec-49fe-afcb-eb25f41440ed",
   "metadata": {},
   "outputs": [
    {
     "data": {
      "text/html": [
       "<div>\n",
       "<style scoped>\n",
       "    .dataframe tbody tr th:only-of-type {\n",
       "        vertical-align: middle;\n",
       "    }\n",
       "\n",
       "    .dataframe tbody tr th {\n",
       "        vertical-align: top;\n",
       "    }\n",
       "\n",
       "    .dataframe thead th {\n",
       "        text-align: right;\n",
       "    }\n",
       "</style>\n",
       "<table border=\"1\" class=\"dataframe\">\n",
       "  <thead>\n",
       "    <tr style=\"text-align: right;\">\n",
       "      <th></th>\n",
       "      <th>Unnamed: 0</th>\n",
       "      <th>title</th>\n",
       "      <th>content</th>\n",
       "      <th>category</th>\n",
       "    </tr>\n",
       "  </thead>\n",
       "  <tbody>\n",
       "    <tr>\n",
       "      <th>0</th>\n",
       "      <td>0</td>\n",
       "      <td>\\n      ‘Back to their worst’: Manchester Unit...</td>\n",
       "      <td>['\\n      It’s one step forward and two steps ...</td>\n",
       "      <td>sports</td>\n",
       "    </tr>\n",
       "    <tr>\n",
       "      <th>1</th>\n",
       "      <td>4</td>\n",
       "      <td>\\n      Rafael Nadal makes comeback from injur...</td>\n",
       "      <td>['\\nRafael Nadal made his long-awaited injury ...</td>\n",
       "      <td>sports</td>\n",
       "    </tr>\n",
       "    <tr>\n",
       "      <th>2</th>\n",
       "      <td>5</td>\n",
       "      <td>\\n      This is what happened in sport during ...</td>\n",
       "      <td>['\\n      2023 has been a year unlike any othe...</td>\n",
       "      <td>sports</td>\n",
       "    </tr>\n",
       "    <tr>\n",
       "      <th>3</th>\n",
       "      <td>6</td>\n",
       "      <td>\\n      Rafael Nadal plays down title expectat...</td>\n",
       "      <td>['\\nRafa Nadal said it is still “impossible” f...</td>\n",
       "      <td>sports</td>\n",
       "    </tr>\n",
       "    <tr>\n",
       "      <th>4</th>\n",
       "      <td>7</td>\n",
       "      <td>\\n      Arsenal’s Premier League title hopes d...</td>\n",
       "      <td>['\\nArsenal missed out on the chance to regain...</td>\n",
       "      <td>sports</td>\n",
       "    </tr>\n",
       "  </tbody>\n",
       "</table>\n",
       "</div>"
      ],
      "text/plain": [
       "   Unnamed: 0                                              title  \\\n",
       "0           0  \\n      ‘Back to their worst’: Manchester Unit...   \n",
       "1           4  \\n      Rafael Nadal makes comeback from injur...   \n",
       "2           5  \\n      This is what happened in sport during ...   \n",
       "3           6  \\n      Rafael Nadal plays down title expectat...   \n",
       "4           7  \\n      Arsenal’s Premier League title hopes d...   \n",
       "\n",
       "                                             content category  \n",
       "0  ['\\n      It’s one step forward and two steps ...   sports  \n",
       "1  ['\\nRafael Nadal made his long-awaited injury ...   sports  \n",
       "2  ['\\n      2023 has been a year unlike any othe...   sports  \n",
       "3  ['\\nRafa Nadal said it is still “impossible” f...   sports  \n",
       "4  ['\\nArsenal missed out on the chance to regain...   sports  "
      ]
     },
     "execution_count": 2,
     "metadata": {},
     "output_type": "execute_result"
    }
   ],
   "source": [
    "df=pd.read_csv('final_news_list.csv')\n",
    "df.head()\n",
    "              "
   ]
  },
  {
   "cell_type": "code",
   "execution_count": 3,
   "id": "5ed05709-b8d0-413b-b940-aea82e4ecb85",
   "metadata": {},
   "outputs": [
    {
     "name": "stdout",
     "output_type": "stream",
     "text": [
      "Original dataframe length 1256\n",
      "Dataframe length after dropping duplicate rows 1256\n",
      "No of duplicate rows removed 0\n"
     ]
    }
   ],
   "source": [
    "a=len(df)\n",
    "print('Original dataframe length',a)\n",
    "df.drop_duplicates(inplace=True)\n",
    "b=len(df)\n",
    "print('Dataframe length after dropping duplicate rows',b)\n",
    "print('No of duplicate rows removed',a-b)"
   ]
  },
  {
   "cell_type": "code",
   "execution_count": 4,
   "id": "a65c6131-ba9a-43e5-8680-126fd494b48d",
   "metadata": {},
   "outputs": [
    {
     "data": {
      "text/plain": [
       "Unnamed: 0    0\n",
       "title         0\n",
       "content       0\n",
       "category      0\n",
       "dtype: int64"
      ]
     },
     "execution_count": 4,
     "metadata": {},
     "output_type": "execute_result"
    }
   ],
   "source": [
    "df.isnull().sum()"
   ]
  },
  {
   "cell_type": "markdown",
   "id": "8d5c6389-9161-4f2d-a711-1cd550bdf4e3",
   "metadata": {},
   "source": [
    "### Checking whether the category column' classes are balanced or not"
   ]
  },
  {
   "cell_type": "code",
   "execution_count": 5,
   "id": "e221c1e2-549d-4f52-a6a5-0994dfcb8a03",
   "metadata": {},
   "outputs": [
    {
     "data": {
      "text/plain": [
       "category\n",
       "sports       314\n",
       "politics     314\n",
       "economics    314\n",
       "climate      314\n",
       "Name: count, dtype: int64"
      ]
     },
     "execution_count": 5,
     "metadata": {},
     "output_type": "execute_result"
    }
   ],
   "source": [
    "df['category'].value_counts()"
   ]
  },
  {
   "cell_type": "code",
   "execution_count": 6,
   "id": "91300b25-b040-4eab-b3d7-8d96f0445d47",
   "metadata": {},
   "outputs": [],
   "source": [
    "df=df[['title','content','category']]"
   ]
  },
  {
   "cell_type": "code",
   "execution_count": 7,
   "id": "1ae9472c-f7a3-438b-ae58-b5b920e82d52",
   "metadata": {},
   "outputs": [
    {
     "data": {
      "text/html": [
       "<div>\n",
       "<style scoped>\n",
       "    .dataframe tbody tr th:only-of-type {\n",
       "        vertical-align: middle;\n",
       "    }\n",
       "\n",
       "    .dataframe tbody tr th {\n",
       "        vertical-align: top;\n",
       "    }\n",
       "\n",
       "    .dataframe thead th {\n",
       "        text-align: right;\n",
       "    }\n",
       "</style>\n",
       "<table border=\"1\" class=\"dataframe\">\n",
       "  <thead>\n",
       "    <tr style=\"text-align: right;\">\n",
       "      <th></th>\n",
       "      <th>title</th>\n",
       "      <th>content</th>\n",
       "      <th>category</th>\n",
       "    </tr>\n",
       "  </thead>\n",
       "  <tbody>\n",
       "    <tr>\n",
       "      <th>0</th>\n",
       "      <td>\\n      ‘Back to their worst’: Manchester Unit...</td>\n",
       "      <td>['\\n      It’s one step forward and two steps ...</td>\n",
       "      <td>sports</td>\n",
       "    </tr>\n",
       "  </tbody>\n",
       "</table>\n",
       "</div>"
      ],
      "text/plain": [
       "                                               title  \\\n",
       "0  \\n      ‘Back to their worst’: Manchester Unit...   \n",
       "\n",
       "                                             content category  \n",
       "0  ['\\n      It’s one step forward and two steps ...   sports  "
      ]
     },
     "execution_count": 7,
     "metadata": {},
     "output_type": "execute_result"
    }
   ],
   "source": [
    "df.iloc[[0]]"
   ]
  },
  {
   "cell_type": "code",
   "execution_count": 8,
   "id": "d5601f48-72b1-46be-a015-2dfacb8ae7ae",
   "metadata": {},
   "outputs": [
    {
     "data": {
      "text/plain": [
       "'\\n      ‘Back to their worst’: Manchester United’s misery continues following dismal defeat to Nottingham Forest\\n    '"
      ]
     },
     "execution_count": 8,
     "metadata": {},
     "output_type": "execute_result"
    }
   ],
   "source": [
    "df['title'][0]"
   ]
  },
  {
   "cell_type": "code",
   "execution_count": 9,
   "id": "993f4f75-ba31-47a7-be89-c915f4b84410",
   "metadata": {},
   "outputs": [
    {
     "data": {
      "text/plain": [
       "\"['\\\\n      It’s one step forward and two steps back for Manchester United this season as Erik ten Hag’s side followed up its thrilling comeback win over Aston Villa with another dismal defeat, this time at the hands of relegation-threatened Nottingham Forest.\\\\n  ', '\\\\n      It was yet more hapless defending – a defining feature of United’s season so far – that gifted Argentine international Nicolás Domínguez acres of room in the penalty to steer Forest into the lead after 64 minutes.\\\\n  ', '\\\\n      Marcus Rashford drew United level 12 minutes from time after Forest goalkeeper Matt Turner’s error, but Ten Hag’s frail defense was breached once again just four minutes later, as Morgan Gibbs-White finished off a slick counterattack to secure a 2-1 win and three crucial points in the battle against relegation.\\\\n  ', '\\\\n      It was United’s second match since British billionaire Jim Ratcliffe completed a deal to buy a 25% stake in the club\\\\xa0and if United’s Boxing Day comeback against Villa provided him with some optimism going forward, Saturday’s defeat quickly laid bare the enormity of the task ahead of him.\\\\n  ', '\\\\n      David Brailsford, a British cycling coach and the Director of Sport at Ratcliffe’s INEOS company,\\\\xa0was in attendance at the City Ground alongside legendary United manager Alex Ferguson. Both men will surely have left sorely disappointed.\\\\n  ', '\\\\n      United has now lost nine of its first 20 league matches in a season for the first time since 1989-90, according to Opta, totaling as many league defeats as it suffered in the whole of last season.\\\\n  ', '\\\\n      After the match, United legend Gary Neville said Manchester United “are back to their worst.”\\\\n  ', '\\\\n      “Manchester United are back to what they are - inconsistent and awful,” he told Sky Sports. “They walk off the pitch a defeated bunch. United fans behind the goal will go off so disappointed.\\\\n  ', '\\\\n      “I’m not really sure what this Manchester United team is,” he added. “It’s a very difficult watch. I think everyone accepted that Erik ten Hag did a very good job in his first season.\\\\n  ', '\\\\n      “With the new ownership, Sir Dave Brailsford’s going to be on a watching brief, week in, week out now. We’re going to see him appear there in the directors’ box.\\\\n  ', '\\\\n      “He’s going to look at what this club is, on and off the pitch. What he’s seeing at this moment in time he isn’t going to like.”\\\\n  ', '\\\\n      Neville added that United’s season has been “more down than up” and that some of the performances under Ten Hag this season have been “well below anything that should be required at this level.”\\\\n  ', '\\\\n      United has picked up just four points from a possible 15 over its last five league matches, falling to seventh in the table and nine points behind Arsenal in the fourth and final Champions League place.\\\\n  ', '\\\\n      The team is also already out of the Champions League, finishing bottom of a group that wasn’t particularly difficult, and the League Cup, leaving the FA Cup as the team’s only remaining chance of silverware this season.\\\\n  ', '\\\\n      United is the only team in the top half of the Premier League with a negative goal difference and only Burnley and Sheffield United, the league’s bottom two teams, have scored fewer goals than United’s 22 this season.\\\\n  ', '\\\\n      The club has spent large sums of money on players Ten Hag wanted in his team, including André Onana and Antony, but the Dutch manager is no closer to implementing any discerning style than when he took the reins at the start of last season.\\\\n  ', '\\\\n      After being substituted less than 10 minutes into the second half against Forest following another feeble performance, Brazil winger Antony finishes 2023 with a grand total of one goal in 33 Premier League games.\\\\n  ', '\\\\n      In 21 matches and more than 900 minutes of Premier League action this season, Antony has zero goals and zero assists. Manchester United was widely reported to have paid $109 million for his services.\\\\n  ', '\\\\n      Neville said that result and performance means Ten Hag is now “under pressure.”\\\\n  ', '\\\\n      “There’s no doubt about that. They’re obviously going to appoint those three roles - CEO, sporting director and head of recruitment - they’ll all come in and the rest of them will go,” he said.\\\\n  ', '\\\\n      “The coach is the one that will be their biggest deliberation, it always is in a football club, because you don’t sack a coach easily.\\\\n  ', '\\\\n      “They’re out of Europe and they’re out of the Carabao Cup. They need to get their players fit and somehow try to push towards Champions League football and see where it takes them.\\\\n  ', '\\\\n      “But at the moment, they look well off it and there are six or seven teams that are in far better shape than them. It seems a million miles away.”\\\\n  ']\""
      ]
     },
     "execution_count": 9,
     "metadata": {},
     "output_type": "execute_result"
    }
   ],
   "source": [
    "df['content'][0]"
   ]
  },
  {
   "cell_type": "code",
   "execution_count": 10,
   "id": "4762f2c6-2176-49ab-88c7-31ce858cae26",
   "metadata": {},
   "outputs": [
    {
     "data": {
      "text/html": [
       "<div>\n",
       "<style scoped>\n",
       "    .dataframe tbody tr th:only-of-type {\n",
       "        vertical-align: middle;\n",
       "    }\n",
       "\n",
       "    .dataframe tbody tr th {\n",
       "        vertical-align: top;\n",
       "    }\n",
       "\n",
       "    .dataframe thead th {\n",
       "        text-align: right;\n",
       "    }\n",
       "</style>\n",
       "<table border=\"1\" class=\"dataframe\">\n",
       "  <thead>\n",
       "    <tr style=\"text-align: right;\">\n",
       "      <th></th>\n",
       "      <th>title</th>\n",
       "      <th>content</th>\n",
       "      <th>category</th>\n",
       "    </tr>\n",
       "  </thead>\n",
       "  <tbody>\n",
       "    <tr>\n",
       "      <th>count</th>\n",
       "      <td>1256</td>\n",
       "      <td>1256</td>\n",
       "      <td>1256</td>\n",
       "    </tr>\n",
       "    <tr>\n",
       "      <th>unique</th>\n",
       "      <td>1252</td>\n",
       "      <td>1252</td>\n",
       "      <td>4</td>\n",
       "    </tr>\n",
       "    <tr>\n",
       "      <th>top</th>\n",
       "      <td>\\n      Saudi Arabia is trying to disrupt socc...</td>\n",
       "      <td>['\\n      When Saudi Arabian club Al-Hilal rep...</td>\n",
       "      <td>sports</td>\n",
       "    </tr>\n",
       "    <tr>\n",
       "      <th>freq</th>\n",
       "      <td>2</td>\n",
       "      <td>2</td>\n",
       "      <td>314</td>\n",
       "    </tr>\n",
       "  </tbody>\n",
       "</table>\n",
       "</div>"
      ],
      "text/plain": [
       "                                                    title  \\\n",
       "count                                                1256   \n",
       "unique                                               1252   \n",
       "top     \\n      Saudi Arabia is trying to disrupt socc...   \n",
       "freq                                                    2   \n",
       "\n",
       "                                                  content category  \n",
       "count                                                1256     1256  \n",
       "unique                                               1252        4  \n",
       "top     ['\\n      When Saudi Arabian club Al-Hilal rep...   sports  \n",
       "freq                                                    2      314  "
      ]
     },
     "execution_count": 10,
     "metadata": {},
     "output_type": "execute_result"
    }
   ],
   "source": [
    "df.describe(include='object')"
   ]
  },
  {
   "cell_type": "markdown",
   "id": "d42012f8-deee-4b26-be1b-4601f8dda435",
   "metadata": {},
   "source": [
    "### Removing the newline tags from the content column"
   ]
  },
  {
   "cell_type": "code",
   "execution_count": 11,
   "id": "a17594af-5f76-4716-84a8-59461be4b5d0",
   "metadata": {},
   "outputs": [
    {
     "name": "stdout",
     "output_type": "stream",
     "text": [
      "1256\n"
     ]
    }
   ],
   "source": [
    "#First, we remove all tags which are present in our given dataset.\n",
    "\n",
    "s=[]\n",
    "for i in df['content']:\n",
    "        x=(i[1:-1].replace('\\\\n      ','').replace('\\\\n  ','').replace('\\\\n',''))\n",
    "        s.append(x)\n",
    "    \n",
    "print(len(s))\n",
    "df['content']=s"
   ]
  },
  {
   "cell_type": "markdown",
   "id": "4d4f5cf2-b524-455d-87b1-542eac58def1",
   "metadata": {},
   "source": [
    "### Removing special_characters from the content column"
   ]
  },
  {
   "cell_type": "code",
   "execution_count": 12,
   "id": "e846a5ad-2bb6-4a11-a273-1a12757752fa",
   "metadata": {},
   "outputs": [],
   "source": [
    "def special_char(text):\n",
    "  reviews = ''\n",
    "  for x in text:\n",
    "    if x.isalnum():\n",
    "      reviews = reviews + x\n",
    "    else:\n",
    "      reviews = reviews + ' '\n",
    "  return reviews\n",
    "df['content'] = df['content'].apply(special_char)\n"
   ]
  },
  {
   "cell_type": "markdown",
   "id": "9a31586c-b700-42fe-8748-07973c8db1d0",
   "metadata": {},
   "source": [
    "### Converting the alphabets to lowercase in the content column"
   ]
  },
  {
   "cell_type": "code",
   "execution_count": 13,
   "id": "979ee646-ebe1-4c00-b2f1-8381a5104912",
   "metadata": {},
   "outputs": [],
   "source": [
    "def convert_lower(text):\n",
    "   return text.lower()\n",
    "df['content'] = df['content'].apply(convert_lower)"
   ]
  },
  {
   "cell_type": "code",
   "execution_count": 14,
   "id": "faebc383-3eff-44d5-9f80-9ce8d962f71c",
   "metadata": {},
   "outputs": [],
   "source": [
    "sample=df['content'][0]"
   ]
  },
  {
   "cell_type": "markdown",
   "id": "2e7e63e2-32ad-4ef2-b46e-42736b49523c",
   "metadata": {},
   "source": [
    "### Removing the stopwords from the content column"
   ]
  },
  {
   "cell_type": "code",
   "execution_count": 15,
   "id": "4fb2d9cc-040b-4885-b500-9f1a9f5fa477",
   "metadata": {},
   "outputs": [],
   "source": [
    "def remove_stopwords(text):\n",
    "  stop_words = set(stopwords.words('english'))\n",
    "  words = word_tokenize(text)\n",
    "  return [x for x in words if x not in stop_words]\n",
    "df['content'] = df['content'].apply(remove_stopwords)"
   ]
  },
  {
   "cell_type": "code",
   "execution_count": 16,
   "id": "9ae6da72-84d0-42f3-b8ae-a563a8f0a226",
   "metadata": {},
   "outputs": [
    {
     "data": {
      "text/plain": [
       "['one',\n",
       " 'step',\n",
       " 'forward',\n",
       " 'two',\n",
       " 'steps',\n",
       " 'back',\n",
       " 'manchester',\n",
       " 'united',\n",
       " 'season',\n",
       " 'erik',\n",
       " 'ten',\n",
       " 'hag',\n",
       " 'side',\n",
       " 'followed',\n",
       " 'thrilling',\n",
       " 'comeback',\n",
       " 'win',\n",
       " 'aston',\n",
       " 'villa',\n",
       " 'another',\n",
       " 'dismal',\n",
       " 'defeat',\n",
       " 'time',\n",
       " 'hands',\n",
       " 'relegation',\n",
       " 'threatened',\n",
       " 'nottingham',\n",
       " 'forest',\n",
       " 'yet',\n",
       " 'hapless',\n",
       " 'defending',\n",
       " 'defining',\n",
       " 'feature',\n",
       " 'united',\n",
       " 'season',\n",
       " 'far',\n",
       " 'gifted',\n",
       " 'argentine',\n",
       " 'international',\n",
       " 'nicolás',\n",
       " 'domínguez',\n",
       " 'acres',\n",
       " 'room',\n",
       " 'penalty',\n",
       " 'steer',\n",
       " 'forest',\n",
       " 'lead',\n",
       " '64',\n",
       " 'minutes',\n",
       " 'marcus',\n",
       " 'rashford',\n",
       " 'drew',\n",
       " 'united',\n",
       " 'level',\n",
       " '12',\n",
       " 'minutes',\n",
       " 'time',\n",
       " 'forest',\n",
       " 'goalkeeper',\n",
       " 'matt',\n",
       " 'turner',\n",
       " 'error',\n",
       " 'ten',\n",
       " 'hag',\n",
       " 'frail',\n",
       " 'defense',\n",
       " 'breached',\n",
       " 'four',\n",
       " 'minutes',\n",
       " 'later',\n",
       " 'morgan',\n",
       " 'gibbs',\n",
       " 'white',\n",
       " 'finished',\n",
       " 'slick',\n",
       " 'counterattack',\n",
       " 'secure',\n",
       " '2',\n",
       " '1',\n",
       " 'win',\n",
       " 'three',\n",
       " 'crucial',\n",
       " 'points',\n",
       " 'battle',\n",
       " 'relegation',\n",
       " 'united',\n",
       " 'second',\n",
       " 'match',\n",
       " 'since',\n",
       " 'british',\n",
       " 'billionaire',\n",
       " 'jim',\n",
       " 'ratcliffe',\n",
       " 'completed',\n",
       " 'deal',\n",
       " 'buy',\n",
       " '25',\n",
       " 'stake',\n",
       " 'club',\n",
       " 'xa0and',\n",
       " 'united',\n",
       " 'boxing',\n",
       " 'day',\n",
       " 'comeback',\n",
       " 'villa',\n",
       " 'provided',\n",
       " 'optimism',\n",
       " 'going',\n",
       " 'forward',\n",
       " 'saturday',\n",
       " 'defeat',\n",
       " 'quickly',\n",
       " 'laid',\n",
       " 'bare',\n",
       " 'enormity',\n",
       " 'task',\n",
       " 'ahead',\n",
       " 'david',\n",
       " 'brailsford',\n",
       " 'british',\n",
       " 'cycling',\n",
       " 'coach',\n",
       " 'director',\n",
       " 'sport',\n",
       " 'ratcliffe',\n",
       " 'ineos',\n",
       " 'company',\n",
       " 'xa0was',\n",
       " 'attendance',\n",
       " 'city',\n",
       " 'ground',\n",
       " 'alongside',\n",
       " 'legendary',\n",
       " 'united',\n",
       " 'manager',\n",
       " 'alex',\n",
       " 'ferguson',\n",
       " 'men',\n",
       " 'surely',\n",
       " 'left',\n",
       " 'sorely',\n",
       " 'disappointed',\n",
       " 'united',\n",
       " 'lost',\n",
       " 'nine',\n",
       " 'first',\n",
       " '20',\n",
       " 'league',\n",
       " 'matches',\n",
       " 'season',\n",
       " 'first',\n",
       " 'time',\n",
       " 'since',\n",
       " '1989',\n",
       " '90',\n",
       " 'according',\n",
       " 'opta',\n",
       " 'totaling',\n",
       " 'many',\n",
       " 'league',\n",
       " 'defeats',\n",
       " 'suffered',\n",
       " 'whole',\n",
       " 'last',\n",
       " 'season',\n",
       " 'match',\n",
       " 'united',\n",
       " 'legend',\n",
       " 'gary',\n",
       " 'neville',\n",
       " 'said',\n",
       " 'manchester',\n",
       " 'united',\n",
       " 'back',\n",
       " 'worst',\n",
       " 'manchester',\n",
       " 'united',\n",
       " 'back',\n",
       " 'inconsistent',\n",
       " 'awful',\n",
       " 'told',\n",
       " 'sky',\n",
       " 'sports',\n",
       " 'walk',\n",
       " 'pitch',\n",
       " 'defeated',\n",
       " 'bunch',\n",
       " 'united',\n",
       " 'fans',\n",
       " 'behind',\n",
       " 'goal',\n",
       " 'go',\n",
       " 'disappointed',\n",
       " 'really',\n",
       " 'sure',\n",
       " 'manchester',\n",
       " 'united',\n",
       " 'team',\n",
       " 'added',\n",
       " 'difficult',\n",
       " 'watch',\n",
       " 'think',\n",
       " 'everyone',\n",
       " 'accepted',\n",
       " 'erik',\n",
       " 'ten',\n",
       " 'hag',\n",
       " 'good',\n",
       " 'job',\n",
       " 'first',\n",
       " 'season',\n",
       " 'new',\n",
       " 'ownership',\n",
       " 'sir',\n",
       " 'dave',\n",
       " 'brailsford',\n",
       " 'going',\n",
       " 'watching',\n",
       " 'brief',\n",
       " 'week',\n",
       " 'week',\n",
       " 'going',\n",
       " 'see',\n",
       " 'appear',\n",
       " 'directors',\n",
       " 'box',\n",
       " 'going',\n",
       " 'look',\n",
       " 'club',\n",
       " 'pitch',\n",
       " 'seeing',\n",
       " 'moment',\n",
       " 'time',\n",
       " 'going',\n",
       " 'like',\n",
       " 'neville',\n",
       " 'added',\n",
       " 'united',\n",
       " 'season',\n",
       " 'performances',\n",
       " 'ten',\n",
       " 'hag',\n",
       " 'season',\n",
       " 'well',\n",
       " 'anything',\n",
       " 'required',\n",
       " 'level',\n",
       " 'united',\n",
       " 'picked',\n",
       " 'four',\n",
       " 'points',\n",
       " 'possible',\n",
       " '15',\n",
       " 'last',\n",
       " 'five',\n",
       " 'league',\n",
       " 'matches',\n",
       " 'falling',\n",
       " 'seventh',\n",
       " 'table',\n",
       " 'nine',\n",
       " 'points',\n",
       " 'behind',\n",
       " 'arsenal',\n",
       " 'fourth',\n",
       " 'final',\n",
       " 'champions',\n",
       " 'league',\n",
       " 'place',\n",
       " 'team',\n",
       " 'also',\n",
       " 'already',\n",
       " 'champions',\n",
       " 'league',\n",
       " 'finishing',\n",
       " 'bottom',\n",
       " 'group',\n",
       " 'particularly',\n",
       " 'difficult',\n",
       " 'league',\n",
       " 'cup',\n",
       " 'leaving',\n",
       " 'fa',\n",
       " 'cup',\n",
       " 'team',\n",
       " 'remaining',\n",
       " 'chance',\n",
       " 'silverware',\n",
       " 'season',\n",
       " 'united',\n",
       " 'team',\n",
       " 'top',\n",
       " 'half',\n",
       " 'premier',\n",
       " 'league',\n",
       " 'negative',\n",
       " 'goal',\n",
       " 'difference',\n",
       " 'burnley',\n",
       " 'sheffield',\n",
       " 'united',\n",
       " 'league',\n",
       " 'bottom',\n",
       " 'two',\n",
       " 'teams',\n",
       " 'scored',\n",
       " 'fewer',\n",
       " 'goals',\n",
       " 'united',\n",
       " '22',\n",
       " 'season',\n",
       " 'club',\n",
       " 'spent',\n",
       " 'large',\n",
       " 'sums',\n",
       " 'money',\n",
       " 'players',\n",
       " 'ten',\n",
       " 'hag',\n",
       " 'wanted',\n",
       " 'team',\n",
       " 'including',\n",
       " 'andré',\n",
       " 'onana',\n",
       " 'antony',\n",
       " 'dutch',\n",
       " 'manager',\n",
       " 'closer',\n",
       " 'implementing',\n",
       " 'discerning',\n",
       " 'style',\n",
       " 'took',\n",
       " 'reins',\n",
       " 'start',\n",
       " 'last',\n",
       " 'season',\n",
       " 'substituted',\n",
       " 'less',\n",
       " '10',\n",
       " 'minutes',\n",
       " 'second',\n",
       " 'half',\n",
       " 'forest',\n",
       " 'following',\n",
       " 'another',\n",
       " 'feeble',\n",
       " 'performance',\n",
       " 'brazil',\n",
       " 'winger',\n",
       " 'antony',\n",
       " 'finishes',\n",
       " '2023',\n",
       " 'grand',\n",
       " 'total',\n",
       " 'one',\n",
       " 'goal',\n",
       " '33',\n",
       " 'premier',\n",
       " 'league',\n",
       " 'games',\n",
       " '21',\n",
       " 'matches',\n",
       " '900',\n",
       " 'minutes',\n",
       " 'premier',\n",
       " 'league',\n",
       " 'action',\n",
       " 'season',\n",
       " 'antony',\n",
       " 'zero',\n",
       " 'goals',\n",
       " 'zero',\n",
       " 'assists',\n",
       " 'manchester',\n",
       " 'united',\n",
       " 'widely',\n",
       " 'reported',\n",
       " 'paid',\n",
       " '109',\n",
       " 'million',\n",
       " 'services',\n",
       " 'neville',\n",
       " 'said',\n",
       " 'result',\n",
       " 'performance',\n",
       " 'means',\n",
       " 'ten',\n",
       " 'hag',\n",
       " 'pressure',\n",
       " 'doubt',\n",
       " 'obviously',\n",
       " 'going',\n",
       " 'appoint',\n",
       " 'three',\n",
       " 'roles',\n",
       " 'ceo',\n",
       " 'sporting',\n",
       " 'director',\n",
       " 'head',\n",
       " 'recruitment',\n",
       " 'come',\n",
       " 'rest',\n",
       " 'go',\n",
       " 'said',\n",
       " 'coach',\n",
       " 'one',\n",
       " 'biggest',\n",
       " 'deliberation',\n",
       " 'always',\n",
       " 'football',\n",
       " 'club',\n",
       " 'sack',\n",
       " 'coach',\n",
       " 'easily',\n",
       " 'europe',\n",
       " 'carabao',\n",
       " 'cup',\n",
       " 'need',\n",
       " 'get',\n",
       " 'players',\n",
       " 'fit',\n",
       " 'somehow',\n",
       " 'try',\n",
       " 'push',\n",
       " 'towards',\n",
       " 'champions',\n",
       " 'league',\n",
       " 'football',\n",
       " 'see',\n",
       " 'takes',\n",
       " 'moment',\n",
       " 'look',\n",
       " 'well',\n",
       " 'six',\n",
       " 'seven',\n",
       " 'teams',\n",
       " 'far',\n",
       " 'better',\n",
       " 'shape',\n",
       " 'seems',\n",
       " 'million',\n",
       " 'miles',\n",
       " 'away']"
      ]
     },
     "execution_count": 16,
     "metadata": {},
     "output_type": "execute_result"
    }
   ],
   "source": [
    "df['content'][0]"
   ]
  },
  {
   "cell_type": "markdown",
   "id": "e86d6a4f-31ff-494c-9d60-07571157e60c",
   "metadata": {},
   "source": [
    "### Lemmatizing the content column"
   ]
  },
  {
   "cell_type": "code",
   "execution_count": 17,
   "id": "31947daa-a2ed-4a5d-b906-9f0c87e1221e",
   "metadata": {},
   "outputs": [],
   "source": [
    "\n",
    "def lemmatize_word(text):\n",
    "  wordnet = WordNetLemmatizer()\n",
    "  return \" \".join([wordnet.lemmatize(word) for word in text])\n",
    "df['content'] = df['content'].apply(lemmatize_word)"
   ]
  },
  {
   "cell_type": "code",
   "execution_count": 18,
   "id": "543208c8-8685-4b51-8eff-bf053f19782d",
   "metadata": {},
   "outputs": [],
   "source": [
    "X = df['content']\n",
    "Y = df['category']"
   ]
  },
  {
   "cell_type": "code",
   "execution_count": 19,
   "id": "50868ce5",
   "metadata": {},
   "outputs": [
    {
     "data": {
      "text/plain": [
       "'one step forward two step back manchester united season erik ten hag side followed thrilling comeback win aston villa another dismal defeat time hand relegation threatened nottingham forest yet hapless defending defining feature united season far gifted argentine international nicolás domínguez acre room penalty steer forest lead 64 minute marcus rashford drew united level 12 minute time forest goalkeeper matt turner error ten hag frail defense breached four minute later morgan gibbs white finished slick counterattack secure 2 1 win three crucial point battle relegation united second match since british billionaire jim ratcliffe completed deal buy 25 stake club xa0and united boxing day comeback villa provided optimism going forward saturday defeat quickly laid bare enormity task ahead david brailsford british cycling coach director sport ratcliffe ineos company xa0was attendance city ground alongside legendary united manager alex ferguson men surely left sorely disappointed united lost nine first 20 league match season first time since 1989 90 according opta totaling many league defeat suffered whole last season match united legend gary neville said manchester united back worst manchester united back inconsistent awful told sky sport walk pitch defeated bunch united fan behind goal go disappointed really sure manchester united team added difficult watch think everyone accepted erik ten hag good job first season new ownership sir dave brailsford going watching brief week week going see appear director box going look club pitch seeing moment time going like neville added united season performance ten hag season well anything required level united picked four point possible 15 last five league match falling seventh table nine point behind arsenal fourth final champion league place team also already champion league finishing bottom group particularly difficult league cup leaving fa cup team remaining chance silverware season united team top half premier league negative goal difference burnley sheffield united league bottom two team scored fewer goal united 22 season club spent large sum money player ten hag wanted team including andré onana antony dutch manager closer implementing discerning style took rein start last season substituted le 10 minute second half forest following another feeble performance brazil winger antony finish 2023 grand total one goal 33 premier league game 21 match 900 minute premier league action season antony zero goal zero assist manchester united widely reported paid 109 million service neville said result performance mean ten hag pressure doubt obviously going appoint three role ceo sporting director head recruitment come rest go said coach one biggest deliberation always football club sack coach easily europe carabao cup need get player fit somehow try push towards champion league football see take moment look well six seven team far better shape seems million mile away'"
      ]
     },
     "execution_count": 19,
     "metadata": {},
     "output_type": "execute_result"
    }
   ],
   "source": [
    "X[0]"
   ]
  },
  {
   "cell_type": "code",
   "execution_count": 20,
   "id": "01a7b6df-2fa3-49ea-a1b5-5235bfce12c0",
   "metadata": {},
   "outputs": [
    {
     "name": "stdout",
     "output_type": "stream",
     "text": [
      "X.shape =  (1256, 5000)\n",
      "y.shape =  (1256,)\n"
     ]
    }
   ],
   "source": [
    "x = np.array(df.content.values)\n",
    "\n",
    "#mapping categories to numerical values\n",
    "y = np.array(df.category.map({'sports':1,'politics':2,'economics':3,'climate':4}).values)\n",
    "\n",
    "cv = CountVectorizer(max_features = 5000)\n",
    "x = cv.fit_transform(df.content).toarray()\n",
    "\n",
    "print(\"X.shape = \",x.shape)\n",
    "print(\"y.shape = \",y.shape)"
   ]
  },
  {
   "cell_type": "code",
   "execution_count": 21,
   "id": "195206f5-badb-4783-96d9-61969f535279",
   "metadata": {},
   "outputs": [
    {
     "name": "stdout",
     "output_type": "stream",
     "text": [
      "1004\n",
      "252\n"
     ]
    }
   ],
   "source": [
    "from sklearn.model_selection import train_test_split\n",
    "x_train, x_test, y_train, y_test = train_test_split(x, y, test_size = 0.2, random_state = 0, shuffle = True)\n",
    "print(len(x_train))\n",
    "print(len(x_test))"
   ]
  },
  {
   "cell_type": "code",
   "execution_count": 22,
   "id": "a82f3335-301d-41bc-8b46-06efd8a852f1",
   "metadata": {},
   "outputs": [
    {
     "name": "stdout",
     "output_type": "stream",
     "text": [
      "Test Accuracy Score of Basic Logistic Regression: % 94.44\n",
      "Precision : 0.9444444444444444\n",
      "Recall : 0.9444444444444444\n",
      "F1-score : 0.9444444444444444\n",
      "[[50  0  2  1]\n",
      " [ 0 65  3  1]\n",
      " [ 1  2 53  2]\n",
      " [ 1  1  0 70]]\n",
      "\n",
      "Test Accuracy Score of Basic Random Forest: % 95.24\n",
      "Precision : 0.9523809523809523\n",
      "Recall : 0.9523809523809523\n",
      "F1-score : 0.9523809523809523\n",
      "[[51  0  1  1]\n",
      " [ 1 65  2  1]\n",
      " [ 1  1 55  1]\n",
      " [ 1  2  0 69]]\n",
      "\n",
      "Test Accuracy Score of Basic Multinomial Naive Bayes: % 92.86\n",
      "Precision : 0.9285714285714286\n",
      "Recall : 0.9285714285714286\n",
      "F1-score : 0.9285714285714286\n",
      "[[49  1  2  1]\n",
      " [ 0 64  4  1]\n",
      " [ 1  4 52  1]\n",
      " [ 1  2  0 69]]\n",
      "\n",
      "Test Accuracy Score of Basic Support Vector Classifer: % 93.25\n",
      "Precision : 0.9325396825396826\n",
      "Recall : 0.9325396825396826\n",
      "F1-score : 0.9325396825396827\n",
      "[[50  1  1  1]\n",
      " [ 0 65  3  1]\n",
      " [ 1  6 50  1]\n",
      " [ 1  1  0 70]]\n",
      "\n",
      "Test Accuracy Score of Basic Decision Tree Classifier: % 87.3\n",
      "Precision : 0.873015873015873\n",
      "Recall : 0.873015873015873\n",
      "F1-score : 0.8730158730158731\n",
      "[[46  1  1  5]\n",
      " [ 0 48  3 18]\n",
      " [ 2  0 54  2]\n",
      " [ 0  0  0 72]]\n",
      "\n",
      "Test Accuracy Score of Basic Gaussian Naive Bayes: % 74.6\n",
      "Precision : 0.746031746031746\n",
      "Recall : 0.746031746031746\n",
      "F1-score : 0.746031746031746\n",
      "[[44  1  1  7]\n",
      " [ 1 45  2 21]\n",
      " [ 1  1 29 27]\n",
      " [ 2  0  0 70]]\n"
     ]
    }
   ],
   "source": [
    "#Create Empty List\n",
    "#create list of model and accuracy dicts\n",
    "perform_list = [ ]\n",
    "#Create, Fit and Predict all ML Model\n",
    "def run_model(model_name, est_c, est_pnlty):\n",
    "\n",
    "    mdl=''\n",
    "    \n",
    "    if model_name == 'Logistic Regression':\n",
    "    \n",
    "        mdl = LogisticRegression()\n",
    "    \n",
    "    elif model_name == 'Random Forest':\n",
    "    \n",
    "        mdl = RandomForestClassifier(n_estimators=100 ,criterion='entropy' , random_state=0)\n",
    "    \n",
    "    elif model_name == 'Multinomial Naive Bayes':\n",
    "    \n",
    "        mdl = MultinomialNB(alpha=1.0,fit_prior=True)\n",
    "    \n",
    "    elif model_name == 'Support Vector Classifer':\n",
    "    \n",
    "        mdl = SVC()\n",
    "    \n",
    "    elif model_name == 'Decision Tree Classifier':\n",
    "    \n",
    "        mdl = DecisionTreeClassifier()\n",
    "    \n",
    "    elif model_name == 'K Nearest Neighbour':\n",
    "    \n",
    "        mdl = KNeighborsClassifier(n_neighbors=10 , metric= 'minkowski' , p = 4)\n",
    "    \n",
    "    elif model_name == 'Gaussian Naive Bayes':\n",
    "    \n",
    "        mdl = GaussianNB()\n",
    "    \n",
    "    oneVsRest = OneVsRestClassifier(mdl)\n",
    "    \n",
    "    oneVsRest.fit(x_train, y_train)\n",
    "    \n",
    "    y_pred = oneVsRest.predict(x_test)\n",
    "    \n",
    "    # Performance metrics\n",
    "    \n",
    "    accuracy = round(accuracy_score(y_test, y_pred) * 100, 2)\n",
    "    \n",
    "    # Get precision, recall, f1 scores\n",
    "    \n",
    "    precision, recall, f1score, support = score(y_test, y_pred, average='micro')\n",
    "    \n",
    "    print(f'Test Accuracy Score of Basic {model_name}: % {accuracy}')\n",
    "    \n",
    "    print(f'Precision : {precision}')\n",
    "    \n",
    "    print(f'Recall : {recall}')\n",
    "    \n",
    "    print(f'F1-score : {f1score}')\n",
    "\n",
    "    print(confusion_matrix(y_test,y_pred))\n",
    "    \n",
    "    # Add performance parameters to list\n",
    "    \n",
    "    perform_list.append(dict([\n",
    "    \n",
    "    ('Model', model_name),\n",
    "    \n",
    "    ('Test Accuracy', round(accuracy, 2)),\n",
    "    \n",
    "    ('Precision', round(precision, 2)),\n",
    "    \n",
    "    ('Recall', round(recall, 2)),\n",
    "    \n",
    "    ('F1', round(f1score, 2))\n",
    "    \n",
    "    ]))\n",
    "#Logistic Regression\n",
    "run_model('Logistic Regression', est_c=None, est_pnlty=None)\n",
    "#Logistic Regression | Text Classification of News Articles\n",
    "print()\n",
    "#Random Forest\n",
    "run_model('Random Forest', est_c=None, est_pnlty=None)\n",
    "#Random Forest \n",
    "print()\n",
    "#Multinomial Naive Bayes\n",
    "run_model('Multinomial Naive Bayes', est_c=None, est_pnlty=None)\n",
    "#Multinomial Naive Bayes\n",
    "print()\n",
    "#Support Vector Machine\n",
    "run_model('Support Vector Classifer', est_c=None, est_pnlty=None)\n",
    "#Support Vector Machine | Text Classification of News Articles\n",
    "print()\n",
    "#Decision Tree\n",
    "run_model('Decision Tree Classifier', est_c=None, est_pnlty=None)\n",
    "#Decision Tree\n",
    " \n",
    "# print()\n",
    "# #KNN\n",
    "# run_model('K Nearest Neighbour', est_c=None, est_pnlty=None)\n",
    "#KNN | Text Classification of News Articles\n",
    " \n",
    "print()\n",
    "# Gaussian Naive Bayes\n",
    "run_model('Gaussian Naive Bayes', est_c=None, est_pnlty=None)\n",
    "#Gaussian Naive Bayes | Text Classification for Articles \n",
    " "
   ]
  },
  {
   "cell_type": "code",
   "execution_count": 23,
   "id": "5b630f6e-a494-470b-bc85-16331a098cf2",
   "metadata": {},
   "outputs": [
    {
     "data": {
      "text/plain": [
       "'fbi investigating dozen migrant uzbekistan country allowed u sought asylum southern border mexico earlier year scramble set u intelligence official found migrant traveled help smuggler tie isi according multiple u official fbi say specific isi plot identified official still working identify ass individual gained entry united state according statement national security council spokesman adrienne watson closely scrutinizing number migrant possible criminal threat according two u official though evidence point justify detaining anyone episode alarming urgent classified intelligence report circulated president joe biden top cabinet official morning briefing book counterterrorism official show u deeply vulnerable possibility terrorist could sneak across southern border hiding amid surge migrant entering country search asylum incident kicked flurry urgent meeting among top national security administration official time republican hammered biden security southern border heading 2024 campaign staff key congressional committee informed incident according two source familiar matter earlier year cohort migrant uzbekistan requested asylum screened department homeland security part rising number asylum seeker traveled u central asia recent year information intelligence community database raised red flag people released u pending court date u202f later fbi learned existence human smuggling network helping foreign national travel u network included least one individual connection isi national security official put piece together fbi agent around country immediately rushed try locate migrant investigate background bureau also worked turkish authority arrested smuggler member network behest u subsequently obtained information aid investigation u official said u202f indication remains indication individual facilitated network connection foreign terrorist organization engaged plotting terrorist attack united state watson said statement cnn since intelligence became available homeland security official also began detaining vetting ultimately expediting removal migrant encountered southern border fit profile associated individual facilitated network watson said isi linked smuggler believed member terror group like independent contractor personal sympathy organization according u official intelligence community belief unlikely assisting individual behest isi believed seeking better life united state u202f biden administration official episode example system working intelligence came light particular group migrant u responded investigation determining pose threat fbi identified specific terrorism plot associated foreign national recently entered united state southern border always work field office across country well domestic international partner identify potential illegal activity terrorism threat fbi said statement cnn u yet located individual traveled part network according watson statement 15 migrant tracked still scrutiny fbi possible criminal threat according one u official law enforcement intelligence official privately expressed concern unusual increase number migrant central asia region known major source refugee spark investigation u border authority continually ass security architecture ensure best poised respond threat homeland watson said statement cnn moreover continue constantly recalibrate screening vetting processing encountered entering united state ensure taking account date information disposal unyielding commitment protecting american homeland full range potential threat watson also said statement u working foreign partner shut travel route associated smuggling network u202f u202f statement cnn official turkish embassy washington said turkey arrested four member smuggling ring official said u told turkey aided travel uzbek russian chechen georgian residing turkey united state turkish official denied connection four arrested individual isi senior administration official suggested turkey access intelligence u smuggler link isi working partner u always share full scope information picture appreciate turkey cooperation official said dhs spokesperson told cnn department along counterterrorism law enforcement partner screen vet individual prior entry united state prevent anyone known pose threat entering country dhs continually monitor available source intelligence information related potential threat new information emerges work closely fbi partner take appropriate action episode sits squarely nexus two thorniest politically fraught security challenge facing biden administration terrorism border biden grappled prevent terror attack u homeland time intelligence community military shifted many resource away counterterrorism favor threat china russia u202f administration official also grappled limited resource face growing number migrant u southern border u202fmigration pattern united state changed dramatically recent year people arriving united state 150 country result official say unprecedented mass migration around world u202f july border authority encountered 183 000 migrant u southern border according u custom border protection data u202f biden trump administration forced u202fwrestle u202fwith similar case u202fof suspected terrorist trying enter country southern border u202f number individual encountered border record terror watchlist given year extremely small represents u202fvery small u202fpercentage total number known suspected terrorist try enter travel u mean uscbp officer process migrant border take biometrics like fingerprint facial scan run individual certain law enforcement database red flag migrant arriving u southern border central asia may trigger additional screening distance cost required take journey according former senior dhs official raise question individual part world would choose cross u southern border called derogatory information person u database migrant released pending court date although asylum seeker appear court date u202fofficials say u law enforcement surveillance tool disposal locate individual united state u202f clear whether particular group migrant received secondary screening time possible even likely u202f official believe turkish smuggler acting run mill human smuggler agent isi clear would detained way handled differently even government known role time processed u202f intelligence law enforcement official spoke privately cnn part problem u government figure define threat murky world criminal activity like human smuggling often commingled amorphous connection terrorism organization particularly difficult disentangle thread desperate migrant fleeing country terror group routinely recruit operate u202f u202f speaking july congressional hearing fbi director christopher wray said fbi perspective seeing sort serious serious criminal threat come across border wray said southern border becoming priority fbi intelligence official viewed intelligence report sent around earlier month worry isi may shift tactic target southern border long bogeyman political right one intelligence official say yet become reality official intelligence reporting top policymakers better described appropriately cautious response responsible government u202fa warning describing theoretical risk united state national security agency could understand threat determine best harden american defense u202f whenever indicator criminal actor involved human smuggling connection terrorism work diligently partner investigate understand foreign terrorist organization may attempt exploit capability best mitigate risk american public fbi said statement u202f story updated additional reporting'"
      ]
     },
     "execution_count": 23,
     "metadata": {},
     "output_type": "execute_result"
    }
   ],
   "source": [
    "X.iloc[600]"
   ]
  },
  {
   "cell_type": "code",
   "execution_count": 24,
   "id": "93efd5d4-dee1-46dc-8340-07a0ef0905fd",
   "metadata": {},
   "outputs": [
    {
     "name": "stdout",
     "output_type": "stream",
     "text": [
      "The best accuracy of model is 95.24 from Random\n",
      "[4]\n",
      "Climate News\n"
     ]
    }
   ],
   "source": [
    "#Create Dataframe of Model, Accuracy, Precision, Recall, and F1\n",
    "model_performance = pd.DataFrame(data=perform_list)\n",
    "model_performance = model_performance[['Model', 'Test Accuracy', 'Precision', 'Recall', 'F1']]\n",
    "#modael_performance\n",
    "#Dataframe of Model | Text Classification for News Articles \n",
    "#Best Model to Perform Accuracy Score\n",
    "#Here, after training and testing the model we find that Random Forest Classifier model has given the best accuracy from all machine learning models.\n",
    "\n",
    "model = model_performance[\"Model\"]\n",
    "max_value = model_performance[\"Test Accuracy\"].max()\n",
    "print(\"The best accuracy of model is\", max_value,\"from Random\")\n",
    "#Random Forests\n",
    "#Fit & predict best ML Model\n",
    "#Here we fit and predict our best model i.e. Random Forest.\n",
    "\n",
    "classifier = RandomForestClassifier(n_estimators=100 ,criterion='entropy' , random_state=0).fit(x_train, y_train)\n",
    "#classifier\n",
    "y_pred = classifier.predict(x_test)\n",
    "#Predict News Article\n",
    "#Now, here, after the completion of model analysis, we can also predict any news articles.\n",
    "\n",
    "y_pred1 = cv.transform([X.iloc[1000]])\n",
    "yy = classifier.predict(y_pred1)\n",
    "print(yy)\n",
    "result = \"\"\n",
    "if yy == [1]:\n",
    "    result = \"Sports News\"\n",
    "elif yy == [2]:\n",
    "    result = \"Politics News\"\n",
    "elif yy == [3]:\n",
    "    result = \"Economics News\"\n",
    "elif yy == [4]:\n",
    "    result = \"Climate News\"\n",
    "\n",
    "print(result)"
   ]
  },
  {
   "cell_type": "code",
   "execution_count": 25,
   "id": "ba94da78-2e98-436b-b1af-65b80594d21f",
   "metadata": {},
   "outputs": [
    {
     "data": {
      "text/plain": [
       "'climate'"
      ]
     },
     "execution_count": 25,
     "metadata": {},
     "output_type": "execute_result"
    }
   ],
   "source": [
    "Y.iloc[1000]"
   ]
  },
  {
   "cell_type": "markdown",
   "id": "68a9b141-8c52-44b4-8159-90afa1bb3ec3",
   "metadata": {},
   "source": [
    "### Saving the random forest model using the pickle file"
   ]
  },
  {
   "cell_type": "code",
   "execution_count": 26,
   "id": "7951e9d1",
   "metadata": {},
   "outputs": [],
   "source": [
    "import pickle\n",
    "data={'count_vectorizer':cv,\n",
    "      'model':classifier}\n",
    "with open('nlp_news_saved_steps_classifier.pkl','wb') as file:\n",
    "    pickle.dump(data,file)"
   ]
  },
  {
   "cell_type": "markdown",
   "id": "95b1ad2b-b2f6-4013-ae89-88ef8d05912e",
   "metadata": {},
   "source": [
    "### Reloading the saved model and checking for predictions"
   ]
  },
  {
   "cell_type": "code",
   "execution_count": 27,
   "id": "b4aba9ab-fb52-4fd0-951c-7c47def3246b",
   "metadata": {},
   "outputs": [],
   "source": [
    "with open('nlp_news_saved_steps_classifier.pkl','rb') as file:\n",
    "    data=pickle.load(file)"
   ]
  },
  {
   "cell_type": "code",
   "execution_count": 28,
   "id": "397e814f-f0c2-4d7d-8bd7-131ed0b13593",
   "metadata": {},
   "outputs": [],
   "source": [
    "count_vectorizer=data['count_vectorizer']\n",
    "classifier_loaded=data['model']"
   ]
  },
  {
   "cell_type": "code",
   "execution_count": 36,
   "id": "a2741857-0373-4ae6-9b99-92adc458ea0a",
   "metadata": {},
   "outputs": [
    {
     "name": "stdin",
     "output_type": "stream",
     "text": [
      " The Securities and Exchange Commission will decide by next spring on a rule to make public companies disclose how much they generate in greenhouse gases and how climate change could hurt their businesses.  The rule, which comes amid the Biden administration’s efforts to tackle climate change, has been met with backlash from business leaders and lawmakers who argue that it oversteps the SEC’s mission to safeguard investors and regulate markets.  “Congress created the SEC to carry out the mission of protecting investors, maintaining fair, orderly, and efficient markets, and facilitating capital formation—not to advance progressive climate policies,” a group of Republican lawmakers wrote in a letter to the agency earlier this year.\n"
     ]
    }
   ],
   "source": [
    "z=input()"
   ]
  },
  {
   "cell_type": "code",
   "execution_count": 37,
   "id": "8dc37815-c097-4873-beb1-9f69e245a3b0",
   "metadata": {},
   "outputs": [],
   "source": [
    "remove_newline=(z[1:-1].replace('\\\\n      ','').replace('\\\\n  ','').replace('\\\\n',''))\n"
   ]
  },
  {
   "cell_type": "code",
   "execution_count": 38,
   "id": "d74bf642-bb84-48c0-a3d8-063064f7b7a4",
   "metadata": {},
   "outputs": [],
   "source": [
    "def special_char(text):\n",
    "  reviews = ''\n",
    "  for x in text:\n",
    "    if x.isalnum():\n",
    "      reviews = reviews + x\n",
    "    else:\n",
    "      reviews = reviews + ' '\n",
    "  return reviews\n",
    "\n",
    "remove_special_chars=special_char(remove_newline)"
   ]
  },
  {
   "cell_type": "code",
   "execution_count": 39,
   "id": "b19da838-eef0-4001-8d0c-d89dcfb29c73",
   "metadata": {},
   "outputs": [],
   "source": [
    "def convert_lower(text):\n",
    "   return text.lower()\n",
    "\n",
    "remove_lowercase=convert_lower(remove_special_chars)"
   ]
  },
  {
   "cell_type": "code",
   "execution_count": 40,
   "id": "a9e8122e-d31c-4612-b893-fa28d05609e4",
   "metadata": {},
   "outputs": [],
   "source": [
    "def remove_stopwords(text):\n",
    "  stop_words = set(stopwords.words('english'))\n",
    "  words = word_tokenize(text)\n",
    "  return [x for x in words if x not in stop_words]\n",
    "    \n",
    "remove_stpwds=remove_stopwords(remove_lowercase)"
   ]
  },
  {
   "cell_type": "code",
   "execution_count": 41,
   "id": "597a72ed-6de9-48bf-be5d-3399b0edb417",
   "metadata": {},
   "outputs": [],
   "source": [
    "\n",
    "def lemmatize_word(text):\n",
    "  wordnet = WordNetLemmatizer()\n",
    "  return \" \".join([wordnet.lemmatize(word) for word in text])\n",
    "lemmatize=lemmatize_word(remove_stpwds)"
   ]
  },
  {
   "cell_type": "code",
   "execution_count": 42,
   "id": "df22643f",
   "metadata": {},
   "outputs": [
    {
     "name": "stdout",
     "output_type": "stream",
     "text": [
      "[4]\n",
      "Climate News\n"
     ]
    }
   ],
   "source": [
    "\n",
    "y_pred1 = count_vectorizer.transform([lemmatize])\n",
    "yy = classifier.predict(y_pred1)\n",
    "print(yy)\n",
    "result = \"\"\n",
    "if yy == [1]:\n",
    "    result = \"Sports News\"\n",
    "elif yy == [2]:\n",
    "    result = \"Politics News\"\n",
    "elif yy == [3]:\n",
    "    result = \"Economics News\"\n",
    "elif yy == [4]:\n",
    "    result = \"Climate News\"\n",
    "print(result)"
   ]
  },
  {
   "cell_type": "code",
   "execution_count": null,
   "id": "67aa82b6-431c-436b-b008-d9f333fef13a",
   "metadata": {},
   "outputs": [],
   "source": []
  }
 ],
 "metadata": {
  "kernelspec": {
   "display_name": "Python 3 (ipykernel)",
   "language": "python",
   "name": "python3"
  },
  "language_info": {
   "codemirror_mode": {
    "name": "ipython",
    "version": 3
   },
   "file_extension": ".py",
   "mimetype": "text/x-python",
   "name": "python",
   "nbconvert_exporter": "python",
   "pygments_lexer": "ipython3",
   "version": "3.9.18"
  }
 },
 "nbformat": 4,
 "nbformat_minor": 5
}
